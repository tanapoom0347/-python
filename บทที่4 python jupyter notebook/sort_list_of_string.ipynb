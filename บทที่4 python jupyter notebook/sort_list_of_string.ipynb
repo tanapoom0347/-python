{
 "cells": [
  {
   "attachments": {},
   "cell_type": "markdown",
   "metadata": {},
   "source": [
    "# sort list of string"
   ]
  },
  {
   "cell_type": "code",
   "execution_count": 1,
   "metadata": {},
   "outputs": [],
   "source": [
    "s = [\"lemon\", \"apple\", \"coconut\", \"Berry\", \"Orange\", \"Kiwi\", \"Apricot\"]"
   ]
  },
  {
   "cell_type": "code",
   "execution_count": 2,
   "metadata": {},
   "outputs": [
    {
     "data": {
      "text/plain": [
       "['Apricot', 'Berry', 'Kiwi', 'Orange', 'apple', 'coconut', 'lemon']"
      ]
     },
     "execution_count": 2,
     "metadata": {},
     "output_type": "execute_result"
    }
   ],
   "source": [
    "s1 = sorted(s)\n",
    "s1"
   ]
  },
  {
   "cell_type": "code",
   "execution_count": 3,
   "metadata": {},
   "outputs": [
    {
     "data": {
      "text/plain": [
       "['lemon', 'coconut', 'apple', 'Orange', 'Kiwi', 'Berry', 'Apricot']"
      ]
     },
     "execution_count": 3,
     "metadata": {},
     "output_type": "execute_result"
    }
   ],
   "source": [
    "s1r=sorted(s, reverse=True)\n",
    "s1r"
   ]
  },
  {
   "cell_type": "code",
   "execution_count": 4,
   "metadata": {},
   "outputs": [
    {
     "data": {
      "text/plain": [
       "[5, 7, 10, 20]"
      ]
     },
     "execution_count": 4,
     "metadata": {},
     "output_type": "execute_result"
    }
   ],
   "source": [
    "nums = [10, 7, 5, 20]\n",
    "n1=sorted(nums)\n",
    "n1"
   ]
  },
  {
   "cell_type": "code",
   "execution_count": 5,
   "metadata": {},
   "outputs": [
    {
     "data": {
      "text/plain": [
       "[20, 10, 7, 5]"
      ]
     },
     "execution_count": 5,
     "metadata": {},
     "output_type": "execute_result"
    }
   ],
   "source": [
    "nums = [10, 7, 5, 20]\n",
    "n1r=sorted(nums, reverse=True)\n",
    "n1r"
   ]
  },
  {
   "cell_type": "code",
   "execution_count": 6,
   "metadata": {},
   "outputs": [
    {
     "data": {
      "text/plain": [
       "['lemon', 'apple', 'coconut', 'Berry', 'Orange', 'Kiwi', 'Apricot']"
      ]
     },
     "execution_count": 6,
     "metadata": {},
     "output_type": "execute_result"
    }
   ],
   "source": [
    "s"
   ]
  },
  {
   "cell_type": "code",
   "execution_count": 7,
   "metadata": {},
   "outputs": [
    {
     "data": {
      "text/plain": [
       "['apple', 'Apricot', 'Berry', 'coconut', 'Kiwi', 'lemon', 'Orange']"
      ]
     },
     "execution_count": 7,
     "metadata": {},
     "output_type": "execute_result"
    }
   ],
   "source": [
    "s2=sorted(s, key=lambda e: e.lower())\n",
    "s2"
   ]
  },
  {
   "cell_type": "code",
   "execution_count": 8,
   "metadata": {},
   "outputs": [
    {
     "data": {
      "text/plain": [
       "['lemon', 'apple', 'coconut', 'Berry', 'Orange', 'Kiwi', 'Apricot']"
      ]
     },
     "execution_count": 8,
     "metadata": {},
     "output_type": "execute_result"
    }
   ],
   "source": [
    "s"
   ]
  },
  {
   "cell_type": "code",
   "execution_count": 9,
   "metadata": {},
   "outputs": [
    {
     "data": {
      "text/plain": [
       "['Apricot', 'Berry', 'Kiwi', 'Orange', 'apple', 'coconut', 'lemon']"
      ]
     },
     "execution_count": 9,
     "metadata": {},
     "output_type": "execute_result"
    }
   ],
   "source": [
    "s.sort()\n",
    "s"
   ]
  },
  {
   "cell_type": "code",
   "execution_count": 12,
   "metadata": {},
   "outputs": [],
   "source": [
    "s.sort(reverse=True)\n"
   ]
  },
  {
   "cell_type": "code",
   "execution_count": 13,
   "metadata": {},
   "outputs": [
    {
     "data": {
      "text/plain": [
       "['lemon', 'coconut', 'apple', 'Orange', 'Kiwi', 'Berry', 'Apricot']"
      ]
     },
     "execution_count": 13,
     "metadata": {},
     "output_type": "execute_result"
    }
   ],
   "source": [
    "s\n"
   ]
  },
  {
   "cell_type": "code",
   "execution_count": 14,
   "metadata": {},
   "outputs": [
    {
     "data": {
      "text/plain": [
       "['apple', 'Apricot', 'Berry', 'coconut', 'Kiwi', 'lemon', 'Orange']"
      ]
     },
     "execution_count": 14,
     "metadata": {},
     "output_type": "execute_result"
    }
   ],
   "source": [
    "s.sort(key=lambda e: e.lower())\n",
    "s\n"
   ]
  },
  {
   "attachments": {},
   "cell_type": "markdown",
   "metadata": {},
   "source": [
    "# sort list of dictionaries"
   ]
  },
  {
   "cell_type": "code",
   "execution_count": 15,
   "metadata": {},
   "outputs": [
    {
     "data": {
      "text/plain": [
       "[{'name': 'mocha', 'price': 50},\n",
       " {'name': 'latte', 'price': 55},\n",
       " {'name': 'espresso', 'price': 40},\n",
       " {'name': 'americano', 'price': 45},\n",
       " {'name': 'green tea', 'price': 60}]"
      ]
     },
     "execution_count": 15,
     "metadata": {},
     "output_type": "execute_result"
    }
   ],
   "source": [
    "menus = [\n",
    "    {\"name\": \"mocha\", \"price\": 50},\n",
    "    {\"name\": \"latte\", \"price\": 55},\n",
    "    {\"name\": \"espresso\", \"price\": 40},\n",
    "    {\"name\": \"americano\", \"price\": 45},\n",
    "    {\"name\": \"green tea\", \"price\": 60},\n",
    "    ]\n",
    "menus\n"
   ]
  },
  {
   "cell_type": "code",
   "execution_count": 16,
   "metadata": {},
   "outputs": [
    {
     "data": {
      "text/plain": [
       "[{'name': 'espresso', 'price': 40},\n",
       " {'name': 'americano', 'price': 45},\n",
       " {'name': 'mocha', 'price': 50},\n",
       " {'name': 'latte', 'price': 55},\n",
       " {'name': 'green tea', 'price': 60}]"
      ]
     },
     "execution_count": 16,
     "metadata": {},
     "output_type": "execute_result"
    }
   ],
   "source": [
    "m2=sorted(menus, key=lambda e: e['price'])\n",
    "m2"
   ]
  },
  {
   "cell_type": "code",
   "execution_count": 17,
   "metadata": {},
   "outputs": [
    {
     "data": {
      "text/plain": [
       "[{'name': 'green tea', 'price': 60},\n",
       " {'name': 'latte', 'price': 55},\n",
       " {'name': 'mocha', 'price': 50},\n",
       " {'name': 'americano', 'price': 45},\n",
       " {'name': 'espresso', 'price': 40}]"
      ]
     },
     "execution_count": 17,
     "metadata": {},
     "output_type": "execute_result"
    }
   ],
   "source": [
    "m3=sorted(menus, reverse=True, key=lambda e: e['price'])\n",
    "m3"
   ]
  },
  {
   "cell_type": "code",
   "execution_count": 18,
   "metadata": {},
   "outputs": [
    {
     "data": {
      "text/plain": [
       "[{'name': 'americano', 'price': 45},\n",
       " {'name': 'espresso', 'price': 40},\n",
       " {'name': 'green tea', 'price': 60},\n",
       " {'name': 'latte', 'price': 55},\n",
       " {'name': 'mocha', 'price': 50}]"
      ]
     },
     "execution_count": 18,
     "metadata": {},
     "output_type": "execute_result"
    }
   ],
   "source": [
    "m4=sorted(menus, reverse=False, key=lambda e: e['name'])\n",
    "m4"
   ]
  },
  {
   "cell_type": "markdown",
   "metadata": {},
   "source": [
    "# sort medthod"
   ]
  },
  {
   "cell_type": "code",
   "execution_count": 19,
   "metadata": {},
   "outputs": [
    {
     "data": {
      "text/plain": [
       "[{'name': 'mocha', 'price': 50},\n",
       " {'name': 'latte', 'price': 55},\n",
       " {'name': 'espresso', 'price': 40},\n",
       " {'name': 'americano', 'price': 45},\n",
       " {'name': 'green tea', 'price': 60}]"
      ]
     },
     "execution_count": 19,
     "metadata": {},
     "output_type": "execute_result"
    }
   ],
   "source": [
    "menus"
   ]
  },
  {
   "cell_type": "code",
   "execution_count": 23,
   "metadata": {},
   "outputs": [],
   "source": [
    "menus.sort(key=lambda e: e['price'], reverse=True)"
   ]
  },
  {
   "cell_type": "code",
   "execution_count": 24,
   "metadata": {},
   "outputs": [
    {
     "data": {
      "text/plain": [
       "[{'name': 'green tea', 'price': 60},\n",
       " {'name': 'latte', 'price': 55},\n",
       " {'name': 'mocha', 'price': 50},\n",
       " {'name': 'americano', 'price': 45},\n",
       " {'name': 'espresso', 'price': 40}]"
      ]
     },
     "execution_count": 24,
     "metadata": {},
     "output_type": "execute_result"
    }
   ],
   "source": [
    "menus"
   ]
  },
  {
   "cell_type": "code",
   "execution_count": 25,
   "metadata": {},
   "outputs": [],
   "source": [
    "menus.sort(key=lambda e: e['name'])"
   ]
  },
  {
   "cell_type": "code",
   "execution_count": 27,
   "metadata": {},
   "outputs": [],
   "source": [
    "menus.sort(key=lambda e: e['name'], reverse=True)"
   ]
  },
  {
   "cell_type": "code",
   "execution_count": 28,
   "metadata": {},
   "outputs": [
    {
     "data": {
      "text/plain": [
       "[{'name': 'mocha', 'price': 50},\n",
       " {'name': 'latte', 'price': 55},\n",
       " {'name': 'green tea', 'price': 60},\n",
       " {'name': 'espresso', 'price': 40},\n",
       " {'name': 'americano', 'price': 45}]"
      ]
     },
     "execution_count": 28,
     "metadata": {},
     "output_type": "execute_result"
    }
   ],
   "source": [
    "menus"
   ]
  },
  {
   "cell_type": "code",
   "execution_count": null,
   "metadata": {},
   "outputs": [],
   "source": []
  }
 ],
 "metadata": {
  "kernelspec": {
   "display_name": "base",
   "language": "python",
   "name": "python3"
  },
  "language_info": {
   "codemirror_mode": {
    "name": "ipython",
    "version": 3
   },
   "file_extension": ".py",
   "mimetype": "text/x-python",
   "name": "python",
   "nbconvert_exporter": "python",
   "pygments_lexer": "ipython3",
   "version": "3.8.16"
  },
  "orig_nbformat": 4
 },
 "nbformat": 4,
 "nbformat_minor": 2
}
